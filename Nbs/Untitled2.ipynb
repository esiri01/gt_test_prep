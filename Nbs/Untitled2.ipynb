{
 "cells": [
  {
   "cell_type": "code",
   "execution_count": 1,
   "id": "c12ffc0e-0fb9-4145-90d2-d0c3b93a12ab",
   "metadata": {},
   "outputs": [],
   "source": [
    "import numpy as np"
   ]
  },
  {
   "cell_type": "code",
   "execution_count": 4,
   "id": "2e5687a4-50d0-4c34-afdb-a4e887cd0bb9",
   "metadata": {},
   "outputs": [
    {
     "data": {
      "text/plain": [
       "972.9774332469678"
      ]
     },
     "execution_count": 4,
     "metadata": {},
     "output_type": "execute_result"
    }
   ],
   "source": [
    "rate = 0.08/2\n",
    "coupon = 80/2\n",
    "total = 0\n",
    "for i in range(1,10):\n",
    "    n = coupon\n",
    "    d = (1+rate)**i\n",
    "    \n",
    "    total+= (n/d)\n",
    "\n",
    "    if i==9:\n",
    "        den = (1+rate)**10\n",
    "        face_value = 1000 / den\n",
    "        total+=face_value\n",
    "        \n",
    "total    "
   ]
  },
  {
   "cell_type": "code",
   "execution_count": 5,
   "id": "87cda4fa-bf85-4231-bfd9-894efa602852",
   "metadata": {},
   "outputs": [
    {
     "data": {
      "text/plain": [
       "1538.6239549000004"
      ]
     },
     "execution_count": 5,
     "metadata": {},
     "output_type": "execute_result"
    }
   ],
   "source": [
    "1000 * (1.09)**5"
   ]
  }
 ],
 "metadata": {
  "kernelspec": {
   "display_name": "Python 3 (ipykernel)",
   "language": "python",
   "name": "python3"
  },
  "language_info": {
   "codemirror_mode": {
    "name": "ipython",
    "version": 3
   },
   "file_extension": ".py",
   "mimetype": "text/x-python",
   "name": "python",
   "nbconvert_exporter": "python",
   "pygments_lexer": "ipython3",
   "version": "3.10.6"
  }
 },
 "nbformat": 4,
 "nbformat_minor": 5
}
