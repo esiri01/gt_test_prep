{
 "cells": [
  {
   "cell_type": "code",
   "execution_count": 139,
   "id": "fc5950a9-ecc2-417d-90db-61b07a233999",
   "metadata": {},
   "outputs": [],
   "source": [
    "import numpy as np"
   ]
  },
  {
   "cell_type": "code",
   "execution_count": 40,
   "id": "0a18c180-3f6c-42d7-9a30-1ab47b56376e",
   "metadata": {},
   "outputs": [],
   "source": [
    "class Solution:\n",
    "    def removeElement(self, nums, val):\n",
    "        i=0\n",
    "        j=len(nums)-1\n",
    "\n",
    "        while i<=j:\n",
    "            numi = nums[i]\n",
    "            numj = nums[j]\n",
    "            print(numi,numj, '----------------')\n",
    "            if numi==val:\n",
    "                # print('current number', numi)\n",
    "                if numj!=val:\n",
    "                    # print('heya')\n",
    "                    nums[i],nums[j] = nums[j],nums[i]\n",
    "                    i+=1\n",
    "                    j-=1\n",
    "                else:\n",
    "                    print('heya')\n",
    "                    j-=1\n",
    "            else:\n",
    "                i+=1\n",
    "            print(nums)\n",
    "        print(i,j)\n",
    "        return max(i,j)"
   ]
  },
  {
   "cell_type": "code",
   "execution_count": 41,
   "id": "56948b7b-84da-4287-86d4-f0963f469c93",
   "metadata": {},
   "outputs": [
    {
     "name": "stdout",
     "output_type": "stream",
     "text": [
      "3 3 ----------------\n",
      "heya\n",
      "[3, 2, 2, 3]\n",
      "3 2 ----------------\n",
      "[2, 2, 3, 3]\n",
      "2 2 ----------------\n",
      "[2, 2, 3, 3]\n",
      "2 1\n"
     ]
    },
    {
     "data": {
      "text/plain": [
       "2"
      ]
     },
     "execution_count": 41,
     "metadata": {},
     "output_type": "execute_result"
    }
   ],
   "source": [
    "nums = [3,2,2,3]\n",
    "val = 3\n",
    "Solution().removeElement(nums, val)"
   ]
  },
  {
   "cell_type": "code",
   "execution_count": 42,
   "id": "d7ff03f7-79be-40b6-8bf4-009fc5fa4f16",
   "metadata": {},
   "outputs": [
    {
     "data": {
      "text/plain": [
       "1000"
      ]
     },
     "execution_count": 42,
     "metadata": {},
     "output_type": "execute_result"
    }
   ],
   "source": [
    "(5+5)**3"
   ]
  },
  {
   "cell_type": "code",
   "execution_count": 43,
   "id": "0942384d-6837-410d-ac50-97b718feb161",
   "metadata": {},
   "outputs": [
    {
     "data": {
      "text/plain": [
       "250"
      ]
     },
     "execution_count": 43,
     "metadata": {},
     "output_type": "execute_result"
    }
   ],
   "source": []
  },
  {
   "cell_type": "code",
   "execution_count": 179,
   "id": "a0409dad-6a88-4422-84d3-7044f1681874",
   "metadata": {},
   "outputs": [
    {
     "data": {
      "text/plain": [
       "array([[1., 1., 0., 1., 1.],\n",
       "       [1., 1., 1., 1., 1.],\n",
       "       [0., 1., 1., 1., 0.],\n",
       "       [1., 1., 1., 1., 0.],\n",
       "       [1., 1., 0., 0., 1.]])"
      ]
     },
     "execution_count": 179,
     "metadata": {},
     "output_type": "execute_result"
    }
   ],
   "source": [
    "import numpy as np\n",
    "\n",
    "# Generate a random 5x5 adjacency matrix for an undirected graph\n",
    "num_vertices = 5\n",
    "matrix = np.random.randint(0, 2, size=(num_vertices, num_vertices))\n",
    "A = np.triu(matrix, 1) + np.triu(matrix, 1).T\n",
    "\n",
    "A = A+np.eye(5)\n",
    "A"
   ]
  },
  {
   "cell_type": "code",
   "execution_count": 182,
   "id": "53e3b59a-3b90-43c4-a37f-336a8cd2c911",
   "metadata": {},
   "outputs": [
    {
     "data": {
      "text/plain": [
       "array([[0., 0., 0., 0., 0.],\n",
       "       [1., 1., 1., 1., 1.],\n",
       "       [0., 1., 1., 1., 0.],\n",
       "       [1., 1., 1., 1., 0.],\n",
       "       [1., 1., 0., 0., 1.]])"
      ]
     },
     "execution_count": 182,
     "metadata": {},
     "output_type": "execute_result"
    }
   ],
   "source": [
    "A[0] = A[0]*0\n",
    "A"
   ]
  },
  {
   "cell_type": "code",
   "execution_count": 183,
   "id": "a381f224-4d9c-484c-8a3a-8eda7170f8e3",
   "metadata": {},
   "outputs": [
    {
     "data": {
      "text/plain": [
       "array([[  0.,   0.,   0.,   0.,   0.],\n",
       "       [  0., 125.,  27.,  64.,  27.],\n",
       "       [  0.,  27.,  27.,  27.,   1.],\n",
       "       [  0.,  64.,  27.,  64.,   8.],\n",
       "       [  0.,  27.,   1.,   8.,  27.]])"
      ]
     },
     "execution_count": 183,
     "metadata": {},
     "output_type": "execute_result"
    }
   ],
   "source": [
    "(A@A.T)**3"
   ]
  },
  {
   "cell_type": "code",
   "execution_count": null,
   "id": "3d9ce396-fbd2-4e13-824c-41318694bd9b",
   "metadata": {},
   "outputs": [],
   "source": []
  }
 ],
 "metadata": {
  "kernelspec": {
   "display_name": "Python 3 (ipykernel)",
   "language": "python",
   "name": "python3"
  },
  "language_info": {
   "codemirror_mode": {
    "name": "ipython",
    "version": 3
   },
   "file_extension": ".py",
   "mimetype": "text/x-python",
   "name": "python",
   "nbconvert_exporter": "python",
   "pygments_lexer": "ipython3",
   "version": "3.10.6"
  }
 },
 "nbformat": 4,
 "nbformat_minor": 5
}
