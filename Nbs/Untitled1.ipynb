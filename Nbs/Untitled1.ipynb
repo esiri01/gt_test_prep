{
 "cells": [
  {
   "cell_type": "code",
   "execution_count": 139,
   "id": "fc5950a9-ecc2-417d-90db-61b07a233999",
   "metadata": {},
   "outputs": [],
   "source": [
    "import numpy as np"
   ]
  },
  {
   "cell_type": "code",
   "execution_count": 198,
   "id": "0a18c180-3f6c-42d7-9a30-1ab47b56376e",
   "metadata": {},
   "outputs": [],
   "source": [
    "class Solution:\n",
    "    def validPath(self, n, edges, source, destination):\n",
    "        A = np.zeros((n,n))\n",
    "        for u,v in edges:\n",
    "            A[u,v] = 1\n",
    "            A[v,u] = 1\n",
    "\n",
    "        R = (A@A.T)**n\n",
    "        print(R)\n",
    "        return bool(R[source,destination])\n",
    "        "
   ]
  },
  {
   "cell_type": "code",
   "execution_count": 199,
   "id": "56948b7b-84da-4287-86d4-f0963f469c93",
   "metadata": {},
   "outputs": [
    {
     "data": {
      "text/plain": [
       "1"
      ]
     },
     "execution_count": 199,
     "metadata": {},
     "output_type": "execute_result"
    }
   ],
   "source": [
    "len([[0,4]])"
   ]
  },
  {
   "cell_type": "code",
   "execution_count": 201,
   "id": "d7ff03f7-79be-40b6-8bf4-009fc5fa4f16",
   "metadata": {},
   "outputs": [
    {
     "name": "stdout",
     "output_type": "stream",
     "text": [
      "[[1. 0. 0. 0. 0.]\n",
      " [0. 0. 0. 0. 0.]\n",
      " [0. 0. 0. 0. 0.]\n",
      " [0. 0. 0. 0. 0.]\n",
      " [0. 0. 0. 0. 1.]]\n"
     ]
    },
    {
     "data": {
      "text/plain": [
       "False"
      ]
     },
     "execution_count": 201,
     "metadata": {},
     "output_type": "execute_result"
    }
   ],
   "source": [
    "n = 5\n",
    "edges = [[0,4]]\n",
    "source = 0\n",
    "destination = 4\n",
    "\n",
    "Solution().validPath(n, edges, source, destination)"
   ]
  },
  {
   "cell_type": "code",
   "execution_count": 195,
   "id": "0942384d-6837-410d-ac50-97b718feb161",
   "metadata": {},
   "outputs": [
    {
     "data": {
      "text/plain": [
       "array([[1., 0., 0., 0., 0.],\n",
       "       [0., 1., 0., 0., 0.],\n",
       "       [0., 0., 1., 0., 0.],\n",
       "       [0., 0., 0., 1., 0.],\n",
       "       [0., 0., 0., 0., 1.]])"
      ]
     },
     "execution_count": 195,
     "metadata": {},
     "output_type": "execute_result"
    }
   ],
   "source": [
    "np.eye(5)"
   ]
  },
  {
   "cell_type": "code",
   "execution_count": 179,
   "id": "a0409dad-6a88-4422-84d3-7044f1681874",
   "metadata": {},
   "outputs": [
    {
     "data": {
      "text/plain": [
       "array([[1., 1., 0., 1., 1.],\n",
       "       [1., 1., 1., 1., 1.],\n",
       "       [0., 1., 1., 1., 0.],\n",
       "       [1., 1., 1., 1., 0.],\n",
       "       [1., 1., 0., 0., 1.]])"
      ]
     },
     "execution_count": 179,
     "metadata": {},
     "output_type": "execute_result"
    }
   ],
   "source": [
    "import numpy as np\n",
    "\n",
    "# Generate a random 5x5 adjacency matrix for an undirected graph\n",
    "num_vertices = 5\n",
    "matrix = np.random.randint(0, 2, size=(num_vertices, num_vertices))\n",
    "A = np.triu(matrix, 1) + np.triu(matrix, 1).T\n",
    "\n",
    "A = A+np.eye(5)\n",
    "A"
   ]
  },
  {
   "cell_type": "code",
   "execution_count": 182,
   "id": "53e3b59a-3b90-43c4-a37f-336a8cd2c911",
   "metadata": {},
   "outputs": [
    {
     "data": {
      "text/plain": [
       "array([[0., 0., 0., 0., 0.],\n",
       "       [1., 1., 1., 1., 1.],\n",
       "       [0., 1., 1., 1., 0.],\n",
       "       [1., 1., 1., 1., 0.],\n",
       "       [1., 1., 0., 0., 1.]])"
      ]
     },
     "execution_count": 182,
     "metadata": {},
     "output_type": "execute_result"
    }
   ],
   "source": [
    "A[0] = A[0]*0\n",
    "A"
   ]
  },
  {
   "cell_type": "code",
   "execution_count": 183,
   "id": "a381f224-4d9c-484c-8a3a-8eda7170f8e3",
   "metadata": {},
   "outputs": [
    {
     "data": {
      "text/plain": [
       "array([[  0.,   0.,   0.,   0.,   0.],\n",
       "       [  0., 125.,  27.,  64.,  27.],\n",
       "       [  0.,  27.,  27.,  27.,   1.],\n",
       "       [  0.,  64.,  27.,  64.,   8.],\n",
       "       [  0.,  27.,   1.,   8.,  27.]])"
      ]
     },
     "execution_count": 183,
     "metadata": {},
     "output_type": "execute_result"
    }
   ],
   "source": [
    "(A@A.T)**3"
   ]
  },
  {
   "cell_type": "code",
   "execution_count": null,
   "id": "3d9ce396-fbd2-4e13-824c-41318694bd9b",
   "metadata": {},
   "outputs": [],
   "source": []
  }
 ],
 "metadata": {
  "kernelspec": {
   "display_name": "Python 3 (ipykernel)",
   "language": "python",
   "name": "python3"
  },
  "language_info": {
   "codemirror_mode": {
    "name": "ipython",
    "version": 3
   },
   "file_extension": ".py",
   "mimetype": "text/x-python",
   "name": "python",
   "nbconvert_exporter": "python",
   "pygments_lexer": "ipython3",
   "version": "3.10.6"
  }
 },
 "nbformat": 4,
 "nbformat_minor": 5
}
