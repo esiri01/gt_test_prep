{
 "cells": [
  {
   "cell_type": "code",
   "execution_count": 1,
   "id": "93babcae-ed30-4ed1-a6a3-a88aed6534b1",
   "metadata": {},
   "outputs": [],
   "source": [
    "import math\n",
    "import numpy as np\n",
    "import scipy.stats\n",
    "import seaborn as sns"
   ]
  },
  {
   "cell_type": "code",
   "execution_count": 6,
   "id": "25201398-a880-4649-b4eb-960e0024fd80",
   "metadata": {},
   "outputs": [
    {
     "data": {
      "text/plain": [
       "-inf"
      ]
     },
     "execution_count": 6,
     "metadata": {},
     "output_type": "execute_result"
    }
   ],
   "source": []
  },
  {
   "cell_type": "code",
   "execution_count": 43,
   "id": "879934e4-ecb4-491a-b6a0-46623222725a",
   "metadata": {},
   "outputs": [],
   "source": [
    "class Solution:\n",
    "    def maxProfit(self, prices):\n",
    "        n = len(prices)\n",
    "        max_profit = 0\n",
    "        current_buy = float(-np.inf)\n",
    "                \n",
    "        for i in range(n):\n",
    "            all_low = True\n",
    "            buy = prices[i]\n",
    "            \n",
    "            for j in range(i+1,n):\n",
    "                sell = prices[j]\n",
    "                profit = sell-buy\n",
    "                if profit>max_profit:\n",
    "                    max_profit=profit\n",
    "            # if new_start==0:\n",
    "            #     print('new start')\n",
    "            #     break\n",
    "                \n",
    "        return max_profit\n"
   ]
  },
  {
   "cell_type": "code",
   "execution_count": 44,
   "id": "0953b05d-8b5e-4a21-a77c-7308f26f8919",
   "metadata": {},
   "outputs": [
    {
     "name": "stdout",
     "output_type": "stream",
     "text": [
      "0 1\n",
      "0 2\n",
      "0 3\n",
      "0 4\n",
      "0 5\n",
      "1 2\n",
      "1 3\n",
      "1 4\n",
      "1 5\n",
      "2 3\n",
      "2 4\n",
      "2 5\n",
      "3 4\n",
      "3 5\n",
      "4 5\n"
     ]
    },
    {
     "data": {
      "text/plain": [
       "5"
      ]
     },
     "execution_count": 44,
     "metadata": {},
     "output_type": "execute_result"
    }
   ],
   "source": [
    "prices = np.arange(1,15000)[::-1]\n",
    "prices = [7,1,5,3,6,4]\n",
    "Solution().maxProfit(prices)"
   ]
  },
  {
   "cell_type": "code",
   "execution_count": 23,
   "id": "35ed0792-dc25-4136-aa1a-cc0e848acef0",
   "metadata": {},
   "outputs": [
    {
     "data": {
      "text/plain": [
       "array([9, 8, 7, 6, 5, 4, 3, 2, 1])"
      ]
     },
     "execution_count": 23,
     "metadata": {},
     "output_type": "execute_result"
    }
   ],
   "source": [
    "prices"
   ]
  },
  {
   "cell_type": "code",
   "execution_count": 19,
   "id": "1f49cf38-8506-4af2-a3d5-46c8f064eb5b",
   "metadata": {},
   "outputs": [],
   "source": [
    "l = [[]for i in range(n)]\n",
    "l[0].append(1)\n",
    "l[0].append(1)\n"
   ]
  },
  {
   "cell_type": "code",
   "execution_count": 99,
   "id": "acddc049-2f22-40cb-9cfd-384142dcd7e3",
   "metadata": {},
   "outputs": [
    {
     "data": {
      "text/plain": [
       "[False, False, False, False, False, False, False, False, False, False]"
      ]
     },
     "execution_count": 99,
     "metadata": {},
     "output_type": "execute_result"
    }
   ],
   "source": [
    "[False for i in range(n)]"
   ]
  },
  {
   "cell_type": "code",
   "execution_count": 41,
   "id": "33a3a71b-eb8d-4f78-837d-84b87016bb8f",
   "metadata": {},
   "outputs": [
    {
     "data": {
      "text/plain": [
       "19.0"
      ]
     },
     "execution_count": 41,
     "metadata": {},
     "output_type": "execute_result"
    }
   ],
   "source": [
    "l1 = (11+7)/2\n",
    "l2 = (7+2)/2\n",
    "l3 = (2+8)/4\n",
    "l4 = (8+1)/3\n",
    "l1+l2+l3+l4"
   ]
  },
  {
   "cell_type": "code",
   "execution_count": 26,
   "id": "33c8bffb-177a-4984-821f-23068583de12",
   "metadata": {},
   "outputs": [],
   "source": [
    "def expon(C, P, t, new_t):\n",
    "    k = np.log(P)-np.log(C)\n",
    "    # print('k', k)\n",
    "    k = k/t\n",
    "    # print('k', k)\n",
    "    return C*np.exp(new_t*k)\n",
    "    "
   ]
  },
  {
   "cell_type": "code",
   "execution_count": 29,
   "id": "25488d12-8fed-4889-ae19-69faa411fd35",
   "metadata": {},
   "outputs": [
    {
     "data": {
      "text/plain": [
       "131.6074012952492"
      ]
     },
     "execution_count": 29,
     "metadata": {},
     "output_type": "execute_result"
    }
   ],
   "source": [
    "C = 900\n",
    "P = 300\n",
    "t = 4\n",
    "new_t = 7\n",
    "expon(C, P, t, new_t)"
   ]
  },
  {
   "cell_type": "code",
   "execution_count": 18,
   "id": "c10e65bd-e50c-4b74-b858-30ccc84330f3",
   "metadata": {},
   "outputs": [
    {
     "data": {
      "text/plain": [
       "75.72386821545985"
      ]
     },
     "execution_count": 18,
     "metadata": {},
     "output_type": "execute_result"
    }
   ],
   "source": [
    "rate = -0.48362858773309125*5\n",
    "np.exp(rate)*850"
   ]
  },
  {
   "cell_type": "code",
   "execution_count": null,
   "id": "4c8914f0-8daf-4879-8bc3-04fce60550b3",
   "metadata": {},
   "outputs": [],
   "source": []
  },
  {
   "cell_type": "code",
   "execution_count": 43,
   "id": "e3cd68bd-f26c-43af-ac7a-91217f4b4661",
   "metadata": {},
   "outputs": [
    {
     "data": {
      "text/plain": [
       "0.6254632116273431"
      ]
     },
     "execution_count": 43,
     "metadata": {},
     "output_type": "execute_result"
    }
   ],
   "source": [
    "U = np.random.rand()\n",
    "V = np.random.rand()\n",
    "Z = np.sqrt(-2*np.log(U))*np.cos(2*np.pi*V)\n",
    "Z"
   ]
  },
  {
   "cell_type": "code",
   "execution_count": 46,
   "id": "70523bea-73c6-4954-93c0-6464ae6651e1",
   "metadata": {},
   "outputs": [],
   "source": [
    "vals = []\n",
    "for i in range(1000):\n",
    "    U = np.random.rand()\n",
    "    V = np.random.rand()\n",
    "    Z = np.sqrt(-2*np.log(U))*np.cos(2*np.pi*V)\n",
    "    vals.append(Z)"
   ]
  },
  {
   "cell_type": "code",
   "execution_count": 49,
   "id": "d7aa3898-e09b-4806-9afe-fd3d9dfeb5b4",
   "metadata": {},
   "outputs": [
    {
     "data": {
      "text/plain": [
       "<AxesSubplot:ylabel='Count'>"
      ]
     },
     "execution_count": 49,
     "metadata": {},
     "output_type": "execute_result"
    },
    {
     "data": {
      "image/png": "[encoded data removed]",
      "text/plain": [
       "<Figure size 640x480 with 1 Axes>"
      ]
     },
     "metadata": {},
     "output_type": "display_data"
    }
   ],
   "source": [
    "sns.histplot(vals)"
   ]
  },
  {
   "cell_type": "code",
   "execution_count": 88,
   "id": "4ee0fd08-73ba-491c-b376-c4e3bdbfaaa1",
   "metadata": {},
   "outputs": [
    {
     "data": {
      "text/plain": [
       "0.03125"
      ]
     },
     "execution_count": 88,
     "metadata": {},
     "output_type": "execute_result"
    }
   ],
   "source": [
    "p=0.5\n",
    "p**4*p"
   ]
  },
  {
   "cell_type": "code",
   "execution_count": 103,
   "id": "b3bf554f-dae5-4526-8b20-30cb8df858f4",
   "metadata": {},
   "outputs": [
    {
     "name": "stdout",
     "output_type": "stream",
     "text": [
      "1 0.7\n",
      "2 0.9099999999999999\n",
      "3 0.973\n"
     ]
    }
   ],
   "source": [
    "p=0.7\n",
    "total = 0\n",
    "for i in range(1,4):\n",
    "    total+= (1-p)**(i-1) * (p)\n",
    "    print(i,total)"
   ]
  },
  {
   "cell_type": "code",
   "execution_count": 124,
   "id": "07ec18ff-de6a-45d3-bec7-306df7a6ede5",
   "metadata": {},
   "outputs": [
    {
     "data": {
      "text/plain": [
       "(18.0, 3.0)"
      ]
     },
     "execution_count": 124,
     "metadata": {},
     "output_type": "execute_result"
    }
   ],
   "source": [
    "l = np.array([7,-2,1,6])\n",
    "mu = l.mean()\n",
    "var = (l-mu)**2\n",
    "sum(var)/3, mu\n"
   ]
  },
  {
   "cell_type": "code",
   "execution_count": 127,
   "id": "4ac18a34-e7db-45e5-a958-63068af0f07b",
   "metadata": {},
   "outputs": [
    {
     "data": {
      "text/plain": [
       "6.750041333206782"
      ]
     },
     "execution_count": 127,
     "metadata": {},
     "output_type": "execute_result"
    }
   ],
   "source": [
    "np.sqrt(18/4)*3.182"
   ]
  },
  {
   "cell_type": "code",
   "execution_count": 114,
   "id": "8223b3d7-1d49-4606-ba34-214a15355f0e",
   "metadata": {},
   "outputs": [
    {
     "data": {
      "text/plain": [
       "0.15865525393145707"
      ]
     },
     "execution_count": 114,
     "metadata": {},
     "output_type": "execute_result"
    }
   ],
   "source": [
    "x = 415\n",
    "mu=400\n",
    "alpha =  (x-mu)/np.sqrt(225)\n",
    "\n",
    "1-(scipy.stats.norm.cdf(alpha)) #- (scipy.stats.norm.ppf(1-alpha))"
   ]
  },
  {
   "cell_type": "code",
   "execution_count": 16,
   "id": "897d34e7-904a-47dc-a23c-f9233da775d7",
   "metadata": {},
   "outputs": [],
   "source": [
    "def next_x(prev_x):\n",
    "    lhs = (5*prev_x)+3\n",
    "    return lhs % 8"
   ]
  },
  {
   "cell_type": "code",
   "execution_count": 26,
   "id": "ba634f41-e060-491a-8be8-e76f88650e54",
   "metadata": {},
   "outputs": [
    {
     "data": {
      "text/plain": [
       "125000"
      ]
     },
     "execution_count": 26,
     "metadata": {},
     "output_type": "execute_result"
    }
   ],
   "source": [
    "prev_x = 0\n",
    "next_x(prev_x)\n",
    "2500*50"
   ]
  },
  {
   "cell_type": "code",
   "execution_count": 30,
   "id": "0a4a6b57-7511-4b6b-9401-d8e97a9b642a",
   "metadata": {},
   "outputs": [
    {
     "data": {
      "text/plain": [
       "0.006737946999085467"
      ]
     },
     "execution_count": 30,
     "metadata": {},
     "output_type": "execute_result"
    }
   ],
   "source": [
    "import math\n",
    "\n",
    "# Given values\n",
    "lambda_ = 2  # Arrival rate (per hour)\n",
    "mu = 3       # Service rate (per hour)\n",
    "P0 = 0       # Probability system is empty at t=0\n",
    "t = 1        # Time in hours\n",
    "\n",
    "# Calculate P(t) using the formula provided\n",
    "P_t = (lambda_ / (lambda_ + mu)) + (P0 - lambda_ / (lambda_ + mu)) * math.exp(-(lambda_ + mu) * t)\n",
    "P_t\n"
   ]
  },
  {
   "cell_type": "code",
   "execution_count": 7,
   "id": "457ca300-0a9e-4662-a2c4-e44f01557109",
   "metadata": {},
   "outputs": [
    {
     "data": {
      "text/plain": [
       "1335380034"
      ]
     },
     "execution_count": 7,
     "metadata": {},
     "output_type": "execute_result"
    }
   ],
   "source": [
    "X1"
   ]
  },
  {
   "cell_type": "code",
   "execution_count": 3,
   "id": "d86d454c-14d1-4a7a-b1d6-2dedbe3bae27",
   "metadata": {},
   "outputs": [
    {
     "data": {
      "text/plain": [
       "3.0"
      ]
     },
     "execution_count": 3,
     "metadata": {},
     "output_type": "execute_result"
    }
   ],
   "source": [
    "np.median([0,1,1,3,3,3,4,5,7])"
   ]
  },
  {
   "cell_type": "code",
   "execution_count": 6,
   "id": "ef6e326a-2712-4997-a712-423d6fa0b1ca",
   "metadata": {},
   "outputs": [
    {
     "data": {
      "text/plain": [
       "(12.5, 3.0618621784789726)"
      ]
     },
     "execution_count": 6,
     "metadata": {},
     "output_type": "execute_result"
    }
   ],
   "source": [
    "p=1/4\n",
    "q=1-p\n",
    "n=50\n",
    "n*p, np.sqrt(n*p*q)"
   ]
  },
  {
   "cell_type": "code",
   "execution_count": 23,
   "id": "1b8e9d57-1431-4274-9279-a9bb4d092fd4",
   "metadata": {},
   "outputs": [
    {
     "data": {
      "text/plain": [
       "0.15865525393145707"
      ]
     },
     "execution_count": 23,
     "metadata": {},
     "output_type": "execute_result"
    }
   ],
   "source": [
    "z = 1\n",
    "1-scipy.stats.norm.cdf(z) "
   ]
  },
  {
   "cell_type": "code",
   "execution_count": null,
   "id": "99c95666-e09c-4c96-95f7-b38f58d195ce",
   "metadata": {},
   "outputs": [],
   "source": [
    "p1,q1 = 0.6,0.4\n",
    "p2,q2 = 0.45,0.55\n",
    "n1=200\n",
    "n2=100\n",
    "\n",
    "\n"
   ]
  },
  {
   "cell_type": "code",
   "execution_count": 43,
   "id": "a83af79f-4820-46fa-a3d1-ec466f6c2692",
   "metadata": {},
   "outputs": [
    {
     "data": {
      "text/plain": [
       "2.3737664997153662"
      ]
     },
     "execution_count": 43,
     "metadata": {},
     "output_type": "execute_result"
    }
   ],
   "source": [
    "w = 16/29\n",
    "y = 16/19\n",
    "np.sqrt(w+y)*scipy.stats.t.ppf(.975, df=48)"
   ]
  },
  {
   "cell_type": "code",
   "execution_count": 72,
   "id": "a5b22d9f-6d3c-43d8-8a4d-f329686af689",
   "metadata": {},
   "outputs": [
    {
     "data": {
      "text/plain": [
       "-19.8"
      ]
     },
     "execution_count": 72,
     "metadata": {},
     "output_type": "execute_result"
    }
   ],
   "source": [
    "a = np.array([int(i) for i in '-123 -112 -100 -84 -83 -61 -7 17 20 21 26 33 33 43 80'.split()])\n",
    "a.mean()"
   ]
  },
  {
   "cell_type": "code",
   "execution_count": 106,
   "id": "936f6ed0-4882-4c1a-ad17-2a3def31bab8",
   "metadata": {},
   "outputs": [],
   "source": [
    "def t_score(x_bar,s2,n, alpha, two_side=True):\n",
    "    if two_side: alpha/=2\n",
    "\n",
    "    conf = 1-alpha\n",
    "    # print(conf)\n",
    "    t = scipy.stats.t.ppf(conf, df=n-1)\n",
    "    print(t)\n",
    "    c = np.sqrt(s2/n)\n",
    "    ci = c*t\n",
    "    print(ci, t)\n",
    "    return np.round(x_bar-ci,3), np.round(x_bar+ci,3)"
   ]
  },
  {
   "cell_type": "code",
   "execution_count": 108,
   "id": "7512ba83-c273-4205-8b6e-1b973c720be7",
   "metadata": {},
   "outputs": [
    {
     "name": "stdout",
     "output_type": "stream",
     "text": [
      "1.3178359336731498\n",
      "0.04217074987754079 1.3178359336731498\n"
     ]
    },
    {
     "data": {
      "text/plain": [
       "(6.058, 6.142)"
      ]
     },
     "execution_count": 108,
     "metadata": {},
     "output_type": "execute_result"
    }
   ],
   "source": [
    "x_bar = 6.1\n",
    "s2 = .16**2\n",
    "alpha = .10\n",
    "two_side = False\n",
    "n=25\n",
    "t_score(x_bar,s2,n, alpha, two_side=two_side)"
   ]
  },
  {
   "cell_type": "code",
   "execution_count": 113,
   "id": "14ed95c8-82f7-46ea-8a58-63a2121a8c56",
   "metadata": {},
   "outputs": [
    {
     "data": {
      "text/plain": [
       "81.13781980858182"
      ]
     },
     "execution_count": 113,
     "metadata": {},
     "output_type": "execute_result"
    }
   ],
   "source": [
    "(60/scipy.stats.t.ppf(.95, df=3))*scipy.stats.t.ppf(.975, df=3)"
   ]
  },
  {
   "cell_type": "code",
   "execution_count": 111,
   "id": "8b4033e4-f6eb-482a-8014-722218154bbf",
   "metadata": {},
   "outputs": [
    {
     "data": {
      "text/plain": [
       "(2.3533634348018264, 3.182446305284263)"
      ]
     },
     "execution_count": 111,
     "metadata": {},
     "output_type": "execute_result"
    }
   ],
   "source": [
    "scipy.stats.t.ppf(.95, df=3),scipy.stats.t.ppf(.975, df=3)"
   ]
  },
  {
   "cell_type": "code",
   "execution_count": 89,
   "id": "f76b83d8-b6a7-4c6b-89b3-6ed00acef111",
   "metadata": {},
   "outputs": [
    {
     "data": {
      "text/plain": [
       "10.028138448516081"
      ]
     },
     "execution_count": 89,
     "metadata": {},
     "output_type": "execute_result"
    }
   ],
   "source": [
    "c = (s_v/15)**0.5\n",
    "((scipy.stats.t.ppf(.90, df=n-1))*c)+a.mean()"
   ]
  },
  {
   "cell_type": "code",
   "execution_count": 28,
   "id": "d3177f85-3742-48f3-b559-7da2d720abea",
   "metadata": {},
   "outputs": [
    {
     "data": {
      "text/plain": [
       "0.177978515625"
      ]
     },
     "execution_count": 28,
     "metadata": {},
     "output_type": "execute_result"
    }
   ],
   "source": [
    "p=0.25\n",
    "q=0.75\n",
    "n=6\n",
    "k=0\n",
    "math.comb(n,k)*0.25**k*(q**(n-k))"
   ]
  }
 ],
 "metadata": {
  "kernelspec": {
   "display_name": "Python 3 (ipykernel)",
   "language": "python",
   "name": "python3"
  },
  "language_info": {
   "codemirror_mode": {
    "name": "ipython",
    "version": 3
   },
   "file_extension": ".py",
   "mimetype": "text/x-python",
   "name": "python",
   "nbconvert_exporter": "python",
   "pygments_lexer": "ipython3",
   "version": "3.10.6"
  }
 },
 "nbformat": 4,
 "nbformat_minor": 5
}
