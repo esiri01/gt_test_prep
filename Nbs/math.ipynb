{
 "cells": [
  {
   "cell_type": "code",
   "execution_count": 8,
   "id": "93babcae-ed30-4ed1-a6a3-a88aed6534b1",
   "metadata": {},
   "outputs": [],
   "source": [
    "import math\n",
    "import numpy as np\n",
    "import scipy.stats"
   ]
  },
  {
   "cell_type": "code",
   "execution_count": 3,
   "id": "d86d454c-14d1-4a7a-b1d6-2dedbe3bae27",
   "metadata": {},
   "outputs": [
    {
     "data": {
      "text/plain": [
       "3.0"
      ]
     },
     "execution_count": 3,
     "metadata": {},
     "output_type": "execute_result"
    }
   ],
   "source": [
    "np.median([0,1,1,3,3,3,4,5,7])"
   ]
  },
  {
   "cell_type": "code",
   "execution_count": 6,
   "id": "ef6e326a-2712-4997-a712-423d6fa0b1ca",
   "metadata": {},
   "outputs": [
    {
     "data": {
      "text/plain": [
       "(12.5, 3.0618621784789726)"
      ]
     },
     "execution_count": 6,
     "metadata": {},
     "output_type": "execute_result"
    }
   ],
   "source": [
    "p=1/4\n",
    "q=1-p\n",
    "n=50\n",
    "n*p, np.sqrt(n*p*q)"
   ]
  },
  {
   "cell_type": "code",
   "execution_count": 23,
   "id": "1b8e9d57-1431-4274-9279-a9bb4d092fd4",
   "metadata": {},
   "outputs": [
    {
     "data": {
      "text/plain": [
       "0.15865525393145707"
      ]
     },
     "execution_count": 23,
     "metadata": {},
     "output_type": "execute_result"
    }
   ],
   "source": [
    "z = 1\n",
    "1-scipy.stats.norm.cdf(z) "
   ]
  },
  {
   "cell_type": "code",
   "execution_count": null,
   "id": "99c95666-e09c-4c96-95f7-b38f58d195ce",
   "metadata": {},
   "outputs": [],
   "source": [
    "p1,q1 = 0.6,0.4\n",
    "p2,q2 = 0.45,0.55\n",
    "n1=200\n",
    "n2=100\n",
    "\n",
    "\n"
   ]
  },
  {
   "cell_type": "code",
   "execution_count": 43,
   "id": "a83af79f-4820-46fa-a3d1-ec466f6c2692",
   "metadata": {},
   "outputs": [
    {
     "data": {
      "text/plain": [
       "2.3737664997153662"
      ]
     },
     "execution_count": 43,
     "metadata": {},
     "output_type": "execute_result"
    }
   ],
   "source": [
    "w = 16/29\n",
    "y = 16/19\n",
    "np.sqrt(w+y)*scipy.stats.t.ppf(.975, df=48)"
   ]
  },
  {
   "cell_type": "code",
   "execution_count": 72,
   "id": "a5b22d9f-6d3c-43d8-8a4d-f329686af689",
   "metadata": {},
   "outputs": [
    {
     "data": {
      "text/plain": [
       "-19.8"
      ]
     },
     "execution_count": 72,
     "metadata": {},
     "output_type": "execute_result"
    }
   ],
   "source": [
    "a = np.array([int(i) for i in '-123 -112 -100 -84 -83 -61 -7 17 20 21 26 33 33 43 80'.split()])\n",
    "a.mean()"
   ]
  },
  {
   "cell_type": "code",
   "execution_count": 106,
   "id": "936f6ed0-4882-4c1a-ad17-2a3def31bab8",
   "metadata": {},
   "outputs": [],
   "source": [
    "def t_score(x_bar,s2,n, alpha, two_side=True):\n",
    "    if two_side: alpha/=2\n",
    "\n",
    "    conf = 1-alpha\n",
    "    # print(conf)\n",
    "    t = scipy.stats.t.ppf(conf, df=n-1)\n",
    "    print(t)\n",
    "    c = np.sqrt(s2/n)\n",
    "    ci = c*t\n",
    "    print(ci, t)\n",
    "    return np.round(x_bar-ci,3), np.round(x_bar+ci,3)"
   ]
  },
  {
   "cell_type": "code",
   "execution_count": 108,
   "id": "7512ba83-c273-4205-8b6e-1b973c720be7",
   "metadata": {},
   "outputs": [
    {
     "name": "stdout",
     "output_type": "stream",
     "text": [
      "1.3178359336731498\n",
      "0.04217074987754079 1.3178359336731498\n"
     ]
    },
    {
     "data": {
      "text/plain": [
       "(6.058, 6.142)"
      ]
     },
     "execution_count": 108,
     "metadata": {},
     "output_type": "execute_result"
    }
   ],
   "source": [
    "x_bar = 6.1\n",
    "s2 = .16**2\n",
    "alpha = .10\n",
    "two_side = False\n",
    "n=25\n",
    "t_score(x_bar,s2,n, alpha, two_side=two_side)"
   ]
  },
  {
   "cell_type": "code",
   "execution_count": 113,
   "id": "14ed95c8-82f7-46ea-8a58-63a2121a8c56",
   "metadata": {},
   "outputs": [
    {
     "data": {
      "text/plain": [
       "81.13781980858182"
      ]
     },
     "execution_count": 113,
     "metadata": {},
     "output_type": "execute_result"
    }
   ],
   "source": [
    "(60/scipy.stats.t.ppf(.95, df=3))*scipy.stats.t.ppf(.975, df=3)"
   ]
  },
  {
   "cell_type": "code",
   "execution_count": 111,
   "id": "8b4033e4-f6eb-482a-8014-722218154bbf",
   "metadata": {},
   "outputs": [
    {
     "data": {
      "text/plain": [
       "(2.3533634348018264, 3.182446305284263)"
      ]
     },
     "execution_count": 111,
     "metadata": {},
     "output_type": "execute_result"
    }
   ],
   "source": [
    "scipy.stats.t.ppf(.95, df=3),scipy.stats.t.ppf(.975, df=3)"
   ]
  },
  {
   "cell_type": "code",
   "execution_count": 89,
   "id": "f76b83d8-b6a7-4c6b-89b3-6ed00acef111",
   "metadata": {},
   "outputs": [
    {
     "data": {
      "text/plain": [
       "10.028138448516081"
      ]
     },
     "execution_count": 89,
     "metadata": {},
     "output_type": "execute_result"
    }
   ],
   "source": [
    "c = (s_v/15)**0.5\n",
    "((scipy.stats.t.ppf(.90, df=n-1))*c)+a.mean()"
   ]
  },
  {
   "cell_type": "code",
   "execution_count": 28,
   "id": "d3177f85-3742-48f3-b559-7da2d720abea",
   "metadata": {},
   "outputs": [
    {
     "data": {
      "text/plain": [
       "0.177978515625"
      ]
     },
     "execution_count": 28,
     "metadata": {},
     "output_type": "execute_result"
    }
   ],
   "source": [
    "p=0.25\n",
    "q=0.75\n",
    "n=6\n",
    "k=0\n",
    "math.comb(n,k)*0.25**k*(q**(n-k))"
   ]
  }
 ],
 "metadata": {
  "kernelspec": {
   "display_name": "Python 3 (ipykernel)",
   "language": "python",
   "name": "python3"
  },
  "language_info": {
   "codemirror_mode": {
    "name": "ipython",
    "version": 3
   },
   "file_extension": ".py",
   "mimetype": "text/x-python",
   "name": "python",
   "nbconvert_exporter": "python",
   "pygments_lexer": "ipython3",
   "version": "3.10.6"
  }
 },
 "nbformat": 4,
 "nbformat_minor": 5
}
