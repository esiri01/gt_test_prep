{
 "cells": [
  {
   "cell_type": "code",
   "execution_count": 1,
   "id": "be7921c0-7cec-4add-bc33-4988b7ded5b3",
   "metadata": {},
   "outputs": [
    {
     "name": "stdout",
     "output_type": "stream",
     "text": [
      "x: tensor([[[[ 1., -3.,  1.],\n",
      "          [-3., -2., -2.],\n",
      "          [-3.,  2., -2.]]]], requires_grad=True)\n",
      "\n",
      "w: tensor([[[[-2., -2.],\n",
      "          [-2., -1.]]]], requires_grad=True)\n",
      "\n",
      "b: tensor([-3.], requires_grad=True)\n",
      "\n",
      "dout: tensor([[[[ 1., -3.],\n",
      "          [ 0.,  1.]]]])\n",
      "\n",
      "dw: tensor([[[[ 8., -8.],\n",
      "          [ 5.,  2.]]]])\n",
      "\n",
      "db: tensor([-1.])\n",
      "\n",
      "dx: tensor([[[[-2.,  4.,  6.],\n",
      "          [-2.,  3.,  1.],\n",
      "          [ 0., -2., -1.]]]])\n",
      "\n",
      "transposed convolution: tensor([[[[-2.,  4.,  4., -2.],\n",
      "          [ 4., 15.,  9.,  3.],\n",
      "          [12.,  9.,  6.,  6.],\n",
      "          [ 6., -1.,  2.,  2.]]]], grad_fn=<ConvolutionBackward0>)\n"
     ]
    }
   ],
   "source": [
    "import torch\n",
    "\n",
    "n, c, h, w = 1, 1, 3, 3  # batch size, channels, height, width\n",
    "f, k = 1, 2  # number of filters, kernel size\n",
    "\n",
    "x = torch.randint(-3, 3, (n, c, h, w)).float()\n",
    "x.requires_grad_(True)\n",
    "\n",
    "w = torch.randint(-3, 3, (f, c, k, k)).float()\n",
    "w.requires_grad_(True)\n",
    "\n",
    "b = torch.randint(-3, 3, (f,)).float()\n",
    "b.requires_grad_(True)\n",
    "\n",
    "out = torch.conv2d(x, w, bias=b)\n",
    "\n",
    "# Random upstream gradient\n",
    "dout = torch.randint_like(out, -3, 3)\n",
    "\n",
    "out.backward(dout)\n",
    "\n",
    "print(f'x: {x}\\n\\nw: {w}\\n\\nb: {b}\\n\\ndout: {dout}\\n')\n",
    "# Given x, w, b, and dout, what's dw, db, and dx?\n",
    "print(f'dw: {w.grad}\\n\\ndb: {b.grad}\\n\\ndx: {x.grad}\\n')\n",
    "\n",
    "# Given x and w compute the transposed convolution\n",
    "transposed_conv = torch.conv_transpose2d(x, w)\n",
    "print(f'transposed convolution: {transposed_conv}')"
   ]
  },
  {
   "cell_type": "code",
   "execution_count": null,
   "id": "bde1c693-1b7e-4b27-85fe-a3e3ceaa1ae8",
   "metadata": {},
   "outputs": [],
   "source": []
  }
 ],
 "metadata": {
  "kernelspec": {
   "display_name": "Python 3 (ipykernel)",
   "language": "python",
   "name": "python3"
  },
  "language_info": {
   "codemirror_mode": {
    "name": "ipython",
    "version": 3
   },
   "file_extension": ".py",
   "mimetype": "text/x-python",
   "name": "python",
   "nbconvert_exporter": "python",
   "pygments_lexer": "ipython3",
   "version": "3.10.6"
  }
 },
 "nbformat": 4,
 "nbformat_minor": 5
}
