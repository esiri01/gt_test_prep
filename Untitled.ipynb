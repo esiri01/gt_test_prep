{
 "cells": [
  {
   "cell_type": "code",
   "execution_count": 34,
   "id": "be7921c0-7cec-4add-bc33-4988b7ded5b3",
   "metadata": {},
   "outputs": [
    {
     "name": "stdout",
     "output_type": "stream",
     "text": [
      "x: tensor([[[[ 2.,  1.,  2.],\n",
      "          [ 1., -2., -1.],\n",
      "          [-3.,  1., -2.]]]], requires_grad=True)\n",
      "\n",
      "w: tensor([[[[ 2.,  1.],\n",
      "          [ 2., -3.]]]], requires_grad=True)\n",
      "\n",
      "b: tensor([0.], requires_grad=True)\n",
      "\n",
      "dout: tensor([[[[-1., -3.],\n",
      "          [-1., -3.]]]])\n",
      "\n"
     ]
    }
   ],
   "source": [
    "import torch\n",
    "\n",
    "n, c, h, w = 1, 1, 3, 3  # batch size, channels, height, width\n",
    "f, k = 1, 2  # number of filters, kernel size\n",
    "\n",
    "x = torch.randint(-3, 3, (n, c, h, w)).float()\n",
    "x.requires_grad_(True)\n",
    "\n",
    "w = torch.randint(-3, 3, (f, c, k, k)).float()\n",
    "w.requires_grad_(True)\n",
    "\n",
    "b = torch.randint(-3, 3, (f,)).float()\n",
    "b.requires_grad_(True)\n",
    "\n",
    "out = torch.conv2d(x, w, bias=b)\n",
    "\n",
    "# Random upstream gradient\n",
    "dout = torch.randint_like(out, -3, 3)\n",
    "\n",
    "out.backward(dout)\n",
    "\n",
    "print(f'x: {x}\\n\\nw: {w}\\n\\nb: {b}\\n\\ndout: {dout}\\n')\n",
    "# Given x, w, b, and dout, what's dw, db, and dx?"
   ]
  },
  {
   "cell_type": "code",
   "execution_count": 35,
   "id": "bde1c693-1b7e-4b27-85fe-a3e3ceaa1ae8",
   "metadata": {},
   "outputs": [
    {
     "name": "stdout",
     "output_type": "stream",
     "text": [
      "x: tensor([[[[ 2.,  1.,  2.],\n",
      "          [ 1., -2., -1.],\n",
      "          [-3.,  1., -2.]]]], requires_grad=True)\n",
      "\n",
      "w: tensor([[[[ 2.,  1.],\n",
      "          [ 2., -3.]]]], requires_grad=True)\n",
      "\n",
      "b: tensor([0.], requires_grad=True)\n",
      "\n",
      "dout: tensor([[[[-1., -3.],\n",
      "          [-1., -3.]]]])\n",
      "\n",
      "dw: tensor([[[[ 0., -2.],\n",
      "          [ 5., 10.]]]])\n",
      "\n",
      "db: tensor([-8.])\n",
      "\n",
      "dx: tensor([[[[ -2.,  -7.,  -3.],\n",
      "          [ -4., -10.,   6.],\n",
      "          [ -2.,  -3.,   9.]]]])\n",
      "\n",
      "transposed convolution: tensor([[[[ 4.,  4.,  5.,  2.],\n",
      "          [ 6., -7., -3., -7.],\n",
      "          [-4., -8.,  1.,  1.],\n",
      "          [-6., 11., -7.,  6.]]]], grad_fn=<ConvolutionBackward0>)\n"
     ]
    }
   ],
   "source": [
    "print(f'x: {x}\\n\\nw: {w}\\n\\nb: {b}\\n\\ndout: {dout}\\n')\n",
    "# Given x, w, b, and dout, what's dw, db, and dx?\n",
    "print(f'dw: {w.grad}\\n\\ndb: {b.grad}\\n\\ndx: {x.grad}\\n')\n",
    "\n",
    "# Given x and w compute the transposed convolution\n",
    "transposed_conv = torch.conv_transpose2d(x, w)\n",
    "print(f'transposed convolution: {transposed_conv}')\n"
   ]
  },
  {
   "cell_type": "code",
   "execution_count": 45,
   "id": "42c7dd32-6f33-4f35-8d5b-2901802f0b67",
   "metadata": {},
   "outputs": [
    {
     "data": {
      "text/plain": [
       "tensor([[[[ 2.,  1.],\n",
       "          [ 2., -3.]]]], requires_grad=True)"
      ]
     },
     "execution_count": 45,
     "metadata": {},
     "output_type": "execute_result"
    }
   ],
   "source": [
    "w\n"
   ]
  },
  {
   "cell_type": "code",
   "execution_count": 46,
   "id": "5f95b9bc-14e3-45d5-8f3c-c3dfd1be4419",
   "metadata": {},
   "outputs": [
    {
     "data": {
      "text/plain": [
       "tensor([[[[ 2.,  1.,  2.],\n",
       "          [ 1., -2., -1.],\n",
       "          [-3.,  1., -2.]]]], requires_grad=True)"
      ]
     },
     "execution_count": 46,
     "metadata": {},
     "output_type": "execute_result"
    }
   ],
   "source": [
    "x"
   ]
  },
  {
   "cell_type": "code",
   "execution_count": 47,
   "id": "595d697e-aef2-44a8-8e5d-55229065206b",
   "metadata": {},
   "outputs": [
    {
     "data": {
      "text/plain": [
       "tensor([[[[ 4.,  4.,  5.,  2.],\n",
       "          [ 6., -7., -3., -7.],\n",
       "          [-4., -8.,  1.,  1.],\n",
       "          [-6., 11., -7.,  6.]]]], grad_fn=<ConvolutionBackward0>)"
      ]
     },
     "execution_count": 47,
     "metadata": {},
     "output_type": "execute_result"
    }
   ],
   "source": [
    "transposed_conv"
   ]
  },
  {
   "cell_type": "code",
   "execution_count": 42,
   "id": "4d6c71de-cb76-4d74-95ad-cb374a8ce43d",
   "metadata": {},
   "outputs": [
    {
     "ename": "NameError",
     "evalue": "name 'dx' is not defined",
     "output_type": "error",
     "traceback": [
      "\u001b[0;31m---------------------------------------------------------------------------\u001b[0m",
      "\u001b[0;31mNameError\u001b[0m                                 Traceback (most recent call last)",
      "Cell \u001b[0;32mIn [42], line 1\u001b[0m\n\u001b[0;32m----> 1\u001b[0m \u001b[43mdx\u001b[49m\n",
      "\u001b[0;31mNameError\u001b[0m: name 'dx' is not defined"
     ]
    }
   ],
   "source": [
    "tensor([[[[ 2.,  1.],\n",
    "          [ 2., -3.]]]], requires_grad=True)"
   ]
  },
  {
   "cell_type": "code",
   "execution_count": 52,
   "id": "a8b65a3c-556d-4b58-af2b-4d495ebe0906",
   "metadata": {},
   "outputs": [
    {
     "data": {
      "text/plain": [
       "3724.0"
      ]
     },
     "execution_count": 52,
     "metadata": {},
     "output_type": "execute_result"
    }
   ],
   "source": [
    "((224*224*3*4)/1024) + (112*112*4*64)/1024"
   ]
  },
  {
   "cell_type": "code",
   "execution_count": null,
   "id": "5be1059d-23c3-4225-bb17-605bdf276719",
   "metadata": {},
   "outputs": [],
   "source": []
  }
 ],
 "metadata": {
  "kernelspec": {
   "display_name": "Python 3 (ipykernel)",
   "language": "python",
   "name": "python3"
  },
  "language_info": {
   "codemirror_mode": {
    "name": "ipython",
    "version": 3
   },
   "file_extension": ".py",
   "mimetype": "text/x-python",
   "name": "python",
   "nbconvert_exporter": "python",
   "pygments_lexer": "ipython3",
   "version": "3.10.6"
  }
 },
 "nbformat": 4,
 "nbformat_minor": 5
}
